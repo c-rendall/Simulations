{
 "cells": [
  {
   "cell_type": "code",
   "execution_count": 1,
   "metadata": {},
   "outputs": [],
   "source": [
    "import numpy as np\n",
    "import matplotlib.pyplot as plt"
   ]
  },
  {
   "cell_type": "markdown",
   "metadata": {},
   "source": [
    "### Theory "
   ]
  },
  {
   "cell_type": "markdown",
   "metadata": {},
   "source": [
    "In machine learning, gradient descent is a commonly used optimization technique that can find the minimum of an objective function. It is a greedy technique that finds the optimal solution by taking a step in the direction of the maximum rate of decrease of the function.  The basic algorithm for gradient descent is simple: \n",
    "\n",
    "Suppose we have a multi-variable function $f(w)$ where $w = [w_{1}, w_{2}, ... , w_{n}]^{T}$.  To find the w at which this function attains a minimum, gradient descent uses the following steps:\n",
    "\n",
    "1. Choose an initial random value of w\n",
    "\n",
    "2. Choose the number of maximum iterations T\n",
    "\n",
    "3. Choose a value for the learning rate $\\alpha$\n",
    "\n",
    "4. Repeat the following steps until f does not change or iterations exceed T:\n",
    "    \n",
    "  a. Compute $\\Delta w$ = -$\\alpha\\nabla f$\n",
    "  \n",
    "  b. Update w as w $\\leftarrow$ w + $\\Delta w$     "
   ]
  },
  {
   "cell_type": "markdown",
   "metadata": {},
   "source": [
    "Pretty simple! So let's actually implement it and try it on a function now: "
   ]
  },
  {
   "cell_type": "markdown",
   "metadata": {},
   "source": [
    "### Gradient Descent on a Function "
   ]
  },
  {
   "cell_type": "markdown",
   "metadata": {},
   "source": [
    "Let's see how gradient descent performs when we use it on a simple quadratic function. "
   ]
  },
  {
   "cell_type": "code",
   "execution_count": 2,
   "metadata": {},
   "outputs": [],
   "source": [
    "# Define function\n",
    "x = np.linspace(-1, 3, 100)\n",
    "y = x**2 -2*x + 1"
   ]
  },
  {
   "cell_type": "markdown",
   "metadata": {},
   "source": [
    "Now let's plot it:"
   ]
  },
  {
   "cell_type": "code",
   "execution_count": 7,
   "metadata": {},
   "outputs": [
    {
     "data": {
      "image/png": "[encoded data removed]",
      "text/plain": [
       "<Figure size 432x288 with 1 Axes>"
      ]
     },
     "metadata": {
      "needs_background": "light"
     },
     "output_type": "display_data"
    }
   ],
   "source": [
    "fig = plt.figure()\n",
    "axdef = fig.add_subplot(1, 1, 1)\n",
    "axdef.spines['bottom'].set_position('zero')\n",
    "axdef.spines['right'].set_color('none')\n",
    "axdef.spines['top'].set_color('none')\n",
    "axdef.xaxis.set_ticks_position('bottom')\n",
    "axdef.yaxis.set_ticks_position('left')\n",
    "plt.plot(x, y, 'r')\n",
    "plt.show()"
   ]
  },
  {
   "cell_type": "markdown",
   "metadata": {},
   "source": [
    "As we see, the minimum of the function is at `y=0`, and this happens at a value of `x=1`. \n",
    "This is the value we will have to determine through the gradient descent method.  Now let's define the gradient function: "
   ]
  },
  {
   "cell_type": "code",
   "execution_count": 8,
   "metadata": {},
   "outputs": [],
   "source": [
    "# Gradient of function\n",
    "grad_f = lambda x: 2*x - 2"
   ]
  },
  {
   "cell_type": "markdown",
   "metadata": {},
   "source": [
    "Let us initialize our paramters:\n",
    "\n",
    "- `actual_x`: The current value of the dependent variable `x`.\n",
    "- `learning_rate`: A hyperparameter that controls how steep we descend from step to step\n",
    "- `precision_value`: Contains the value that defines the degree of precision of our algorithm.  We stop the iterative procedure if this value has been reached. \n",
    "- `previous_step_size`: Contains the calculation of the precision and is initialized to 1\n",
    "- `max_iteration`: Contains the maximum number of iterations that we have provided.  We use this to stop the procedure if it does not converge.  \n",
    "- `iteration_counter`: Counts how many iterations have been performed. "
   ]
  },
  {
   "cell_type": "code",
   "execution_count": 9,
   "metadata": {},
   "outputs": [],
   "source": [
    "# Parameters\n",
    "actual_x = 3\n",
    "learning_rate = 0.01\n",
    "precision_value = 0.000001\n",
    "previous_step_size = 1\n",
    "max_iteration = 10000\n",
    "iteration_counter = 0"
   ]
  },
  {
   "cell_type": "markdown",
   "metadata": {},
   "source": [
    "Now let's implement the algorithm: "
   ]
  },
  {
   "cell_type": "code",
   "execution_count": 24,
   "metadata": {},
   "outputs": [
    {
     "name": "stdout",
     "output_type": "stream",
     "text": [
      "Iterations = 526\n",
      "Approximate value = 1.0000485227950957\n"
     ]
    }
   ],
   "source": [
    "# Gradient descent\n",
    "while previous_step_size > precision_value and iteration_counter < max_iteration:\n",
    "    previous_x = actual_x\n",
    "    actual_x = actual_x - learning_rate * grad_f(previous_x)\n",
    "    previous_step_size = abs(actual_x - previous_x)\n",
    "    iteration_counter += 1\n",
    "print(f'Iterations = {iteration_counter}')\n",
    "print(f'Approximate value = {actual_x}')"
   ]
  },
  {
   "cell_type": "markdown",
   "metadata": {},
   "source": [
    "So there we have it! It took 526 iterations, but we finally reached a value correct up to four decimal places. This was an extremely simplified example of gradient descent.  In many deep learning applications, there are more advanced ways to implement gradient descent, such as through stochastic gradient descent, or introducing a momentum parameter. "
   ]
  }
 ],
 "metadata": {
  "kernelspec": {
   "display_name": "Python 3",
   "language": "python",
   "name": "python3"
  },
  "language_info": {
   "codemirror_mode": {
    "name": "ipython",
    "version": 3
   },
   "file_extension": ".py",
   "mimetype": "text/x-python",
   "name": "python",
   "nbconvert_exporter": "python",
   "pygments_lexer": "ipython3",
   "version": "3.7.4"
  }
 },
 "nbformat": 4,
 "nbformat_minor": 2
}

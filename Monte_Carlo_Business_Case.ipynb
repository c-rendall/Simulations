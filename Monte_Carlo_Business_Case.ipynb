{
 "cells": [
  {
   "cell_type": "code",
   "execution_count": 1,
   "metadata": {},
   "outputs": [],
   "source": [
    "import pandas as pd\n",
    "import numpy as np"
   ]
  },
  {
   "cell_type": "markdown",
   "metadata": {},
   "source": [
    "Monte Carlo methods are powerful tools that we can use to predict a range of potential values for some random event using repeated sampling with replacement.  They can be used in business problems where we want to have a reasonable distribution of values for a business prediction. "
   ]
  },
  {
   "cell_type": "markdown",
   "metadata": {},
   "source": [
    "### Business Problem "
   ]
  },
  {
   "cell_type": "markdown",
   "metadata": {},
   "source": [
    "Suppose that we are a corporation and we are trying to figure out how much money to budget for sales commissions during the next year.  How in the world can we come up with any reasonable estimation of this number? Ideally, we want to be as accurate as possible, so that the company doesn't waste money. This is where the power of Monte Carlo really shines.  By using Monte Carlo methods, we can sample from our sales distribution, and because of the central limit theorem, we can build a normal distribution of results and use the properties of a normal distribution to make predictions. "
   ]
  },
  {
   "cell_type": "markdown",
   "metadata": {},
   "source": [
    "### Monte Carlo "
   ]
  },
  {
   "cell_type": "markdown",
   "metadata": {},
   "source": [
    "In order to implement Monte Carlo simulating, we have to think about our problem.  We want to model how much we will pay yearly in commission rates, so we need some knowledge about what the expected commission rate is.  Since we are a business and have been around for a while, we have data we can use about our historical commission payouts.  Suppose we know that the commissions are roughly normally distributed with a mean of 100% and a standard deivation of 10%.  "
   ]
  },
  {
   "cell_type": "markdown",
   "metadata": {},
   "source": [
    "### Building a Model "
   ]
  },
  {
   "cell_type": "markdown",
   "metadata": {},
   "source": [
    "Knowing this, we have everything we need to build our model.  Let's first define our model parameters.  We will assume that there are 500 representatives at our company and we will simulate this 1000 times: "
   ]
  },
  {
   "cell_type": "code",
   "execution_count": 2,
   "metadata": {},
   "outputs": [],
   "source": [
    "# Model parameters\n",
    "avg = 1\n",
    "std_dev = .1\n",
    "num_reps = 500\n",
    "num_simulations = 1000"
   ]
  },
  {
   "cell_type": "markdown",
   "metadata": {},
   "source": [
    "Let's create an array of percentages that replicate the historical normal distribution of our commission percentages:  "
   ]
  },
  {
   "cell_type": "code",
   "execution_count": 3,
   "metadata": {},
   "outputs": [],
   "source": [
    "# Historical target performance percentages\n",
    "pct_to_target = np.random.normal(avg, std_dev, num_reps).round(2)"
   ]
  },
  {
   "cell_type": "markdown",
   "metadata": {},
   "source": [
    "And just to check, let's see a few of the values: "
   ]
  },
  {
   "cell_type": "code",
   "execution_count": 4,
   "metadata": {},
   "outputs": [
    {
     "data": {
      "text/plain": [
       "array([1.02, 1.  , 1.1 , 1.06, 1.1 ])"
      ]
     },
     "execution_count": 4,
     "metadata": {},
     "output_type": "execute_result"
    }
   ],
   "source": [
    "pct_to_target[:5]"
   ]
  },
  {
   "cell_type": "markdown",
   "metadata": {},
   "source": [
    "Ok, so this looks alright.  Another value we will need to simulate is the sales target distribution, which is the distribution of what the yearly sales goal of our representatives was.  A likely scenario might be an exponential distribution, where the vast majority of representatives have something like a \\\\$75,000 yearly goal, with buckets for \\\\$100,000, \\\\$200,000, and so on having increasingly fewer representatives. For the purpose of this notebook, we will model this as a uniform distribution, but assign a lower probability to the higher values. "
   ]
  },
  {
   "cell_type": "code",
   "execution_count": 5,
   "metadata": {},
   "outputs": [],
   "source": [
    "# Sales targets and probabilities for each target\n",
    "sales_target_values = [75000, 100000, 200000, 300000, 400000, 500000]\n",
    "sales_target_prob = [.3, .3, .2, .1, .05, .05]\n",
    "sales_target = np.random.choice(sales_target_values, num_reps, p=sales_target_prob)"
   ]
  },
  {
   "cell_type": "markdown",
   "metadata": {},
   "source": [
    "So now that we have two of our features we need, we can build up our DataFrame: "
   ]
  },
  {
   "cell_type": "code",
   "execution_count": 6,
   "metadata": {},
   "outputs": [],
   "source": [
    "df = pd.DataFrame(index=range(num_reps), data={'Pct_To_Target': pct_to_target,\n",
    "                                               'Sales_Target': sales_target})\n",
    "\n",
    "df['Sales'] = df['Pct_To_Target'] * df['Sales_Target']"
   ]
  },
  {
   "cell_type": "markdown",
   "metadata": {},
   "source": [
    "Let's see how this looks: "
   ]
  },
  {
   "cell_type": "code",
   "execution_count": 7,
   "metadata": {},
   "outputs": [
    {
     "data": {
      "text/html": [
       "<div>\n",
       "<style scoped>\n",
       "    .dataframe tbody tr th:only-of-type {\n",
       "        vertical-align: middle;\n",
       "    }\n",
       "\n",
       "    .dataframe tbody tr th {\n",
       "        vertical-align: top;\n",
       "    }\n",
       "\n",
       "    .dataframe thead th {\n",
       "        text-align: right;\n",
       "    }\n",
       "</style>\n",
       "<table border=\"1\" class=\"dataframe\">\n",
       "  <thead>\n",
       "    <tr style=\"text-align: right;\">\n",
       "      <th></th>\n",
       "      <th>Pct_To_Target</th>\n",
       "      <th>Sales_Target</th>\n",
       "      <th>Sales</th>\n",
       "    </tr>\n",
       "  </thead>\n",
       "  <tbody>\n",
       "    <tr>\n",
       "      <td>0</td>\n",
       "      <td>1.02</td>\n",
       "      <td>75000</td>\n",
       "      <td>76500.0</td>\n",
       "    </tr>\n",
       "    <tr>\n",
       "      <td>1</td>\n",
       "      <td>1.00</td>\n",
       "      <td>100000</td>\n",
       "      <td>100000.0</td>\n",
       "    </tr>\n",
       "    <tr>\n",
       "      <td>2</td>\n",
       "      <td>1.10</td>\n",
       "      <td>75000</td>\n",
       "      <td>82500.0</td>\n",
       "    </tr>\n",
       "    <tr>\n",
       "      <td>3</td>\n",
       "      <td>1.06</td>\n",
       "      <td>100000</td>\n",
       "      <td>106000.0</td>\n",
       "    </tr>\n",
       "    <tr>\n",
       "      <td>4</td>\n",
       "      <td>1.10</td>\n",
       "      <td>100000</td>\n",
       "      <td>110000.0</td>\n",
       "    </tr>\n",
       "  </tbody>\n",
       "</table>\n",
       "</div>"
      ],
      "text/plain": [
       "   Pct_To_Target  Sales_Target     Sales\n",
       "0           1.02         75000   76500.0\n",
       "1           1.00        100000  100000.0\n",
       "2           1.10         75000   82500.0\n",
       "3           1.06        100000  106000.0\n",
       "4           1.10        100000  110000.0"
      ]
     },
     "execution_count": 7,
     "metadata": {},
     "output_type": "execute_result"
    }
   ],
   "source": [
    "df.head()"
   ]
  },
  {
   "cell_type": "markdown",
   "metadata": {},
   "source": [
    "The final thing we need is a mapping to return the commission a representative should receive based upon what her/his percentage to the target was:"
   ]
  },
  {
   "cell_type": "code",
   "execution_count": 8,
   "metadata": {},
   "outputs": [],
   "source": [
    "def commission_rate(x):\n",
    "    \"\"\"\n",
    "    Return a commission rate based on the following: \n",
    "    0-90% sales = 2%\n",
    "    91-99% sales = 3%\n",
    "    100%+ sales = 4%\n",
    "    \"\"\"\n",
    "    if x <= .90: \n",
    "        return .02\n",
    "    elif x < .99:\n",
    "        return .03\n",
    "    else: \n",
    "        return .04"
   ]
  },
  {
   "cell_type": "markdown",
   "metadata": {},
   "source": [
    "We now take this function and create a new column for the commission rate and apply it to the percentage to target column: "
   ]
  },
  {
   "cell_type": "code",
   "execution_count": 9,
   "metadata": {},
   "outputs": [
    {
     "data": {
      "text/html": [
       "<div>\n",
       "<style scoped>\n",
       "    .dataframe tbody tr th:only-of-type {\n",
       "        vertical-align: middle;\n",
       "    }\n",
       "\n",
       "    .dataframe tbody tr th {\n",
       "        vertical-align: top;\n",
       "    }\n",
       "\n",
       "    .dataframe thead th {\n",
       "        text-align: right;\n",
       "    }\n",
       "</style>\n",
       "<table border=\"1\" class=\"dataframe\">\n",
       "  <thead>\n",
       "    <tr style=\"text-align: right;\">\n",
       "      <th></th>\n",
       "      <th>Pct_To_Target</th>\n",
       "      <th>Sales_Target</th>\n",
       "      <th>Sales</th>\n",
       "      <th>Commission_Rate</th>\n",
       "      <th>Commission_Amount</th>\n",
       "    </tr>\n",
       "  </thead>\n",
       "  <tbody>\n",
       "    <tr>\n",
       "      <td>0</td>\n",
       "      <td>1.02</td>\n",
       "      <td>75000</td>\n",
       "      <td>76500.0</td>\n",
       "      <td>0.04</td>\n",
       "      <td>3060.0</td>\n",
       "    </tr>\n",
       "    <tr>\n",
       "      <td>1</td>\n",
       "      <td>1.00</td>\n",
       "      <td>100000</td>\n",
       "      <td>100000.0</td>\n",
       "      <td>0.04</td>\n",
       "      <td>4000.0</td>\n",
       "    </tr>\n",
       "    <tr>\n",
       "      <td>2</td>\n",
       "      <td>1.10</td>\n",
       "      <td>75000</td>\n",
       "      <td>82500.0</td>\n",
       "      <td>0.04</td>\n",
       "      <td>3300.0</td>\n",
       "    </tr>\n",
       "    <tr>\n",
       "      <td>3</td>\n",
       "      <td>1.06</td>\n",
       "      <td>100000</td>\n",
       "      <td>106000.0</td>\n",
       "      <td>0.04</td>\n",
       "      <td>4240.0</td>\n",
       "    </tr>\n",
       "    <tr>\n",
       "      <td>4</td>\n",
       "      <td>1.10</td>\n",
       "      <td>100000</td>\n",
       "      <td>110000.0</td>\n",
       "      <td>0.04</td>\n",
       "      <td>4400.0</td>\n",
       "    </tr>\n",
       "  </tbody>\n",
       "</table>\n",
       "</div>"
      ],
      "text/plain": [
       "   Pct_To_Target  Sales_Target     Sales  Commission_Rate  Commission_Amount\n",
       "0           1.02         75000   76500.0             0.04             3060.0\n",
       "1           1.00        100000  100000.0             0.04             4000.0\n",
       "2           1.10         75000   82500.0             0.04             3300.0\n",
       "3           1.06        100000  106000.0             0.04             4240.0\n",
       "4           1.10        100000  110000.0             0.04             4400.0"
      ]
     },
     "execution_count": 9,
     "metadata": {},
     "output_type": "execute_result"
    }
   ],
   "source": [
    "df['Commission_Rate'] = df['Pct_To_Target'].apply(commission_rate)\n",
    "df['Commission_Amount'] = df['Commission_Rate'] * df['Sales']\n",
    "df.head()"
   ]
  },
  {
   "cell_type": "markdown",
   "metadata": {},
   "source": [
    "So what was the final sum of our commission that we would pay in this model? "
   ]
  },
  {
   "cell_type": "code",
   "execution_count": 10,
   "metadata": {},
   "outputs": [
    {
     "data": {
      "text/plain": [
       "2953122.5"
      ]
     },
     "execution_count": 10,
     "metadata": {},
     "output_type": "execute_result"
    }
   ],
   "source": [
    "df['Commission_Amount'].sum()"
   ]
  },
  {
   "cell_type": "markdown",
   "metadata": {},
   "source": [
    "### Simulating Many Times "
   ]
  },
  {
   "cell_type": "markdown",
   "metadata": {},
   "source": [
    "Great! So we see that our final commission payout was around \\\\$2,863,000.  That gives us a much better sense of how much we might expect to payout based on our model parameters.  But one measurement based upon random inputs is not necessarily indicative of anything.  How do we know it's not \\\\$1,000,000 greater? This is where Monte Carlo steps in.  We can simulate this calculation over and over as many times as we want and come up with a distribution of values, then take the mean value of our distribution!"
   ]
  },
  {
   "cell_type": "code",
   "execution_count": 11,
   "metadata": {},
   "outputs": [],
   "source": [
    "# Create results list to store our simulation results\n",
    "results = []\n",
    "\n",
    "# Loop through our range of simulations \n",
    "for i in range(num_simulations):\n",
    "    \n",
    "    # Choose random inputs for sales_target and pct_to_target\n",
    "    sales_target = np.random.choice(sales_target_values, num_reps, p=sales_target_prob)\n",
    "    pct_to_target = np.random.normal(avg, std_dev, num_reps).round(2)\n",
    "    \n",
    "    # Build the dataframe based on the inputs and number of reps\n",
    "    df = pd.DataFrame(index=range(num_reps), data={'Pct_To_Target': pct_to_target,\n",
    "                                                   'Sales_Target': sales_target})\n",
    "\n",
    "    # Back into the sales number using the percent to target rate\n",
    "    df['Sales'] = df['Pct_To_Target'] * df['Sales_Target']\n",
    "\n",
    "    # Determine the commissions rate and calculate it\n",
    "    df['Commission_Rate'] = df['Pct_To_Target'].apply(commission_rate)\n",
    "    df['Commission_Amount'] = df['Commission_Rate'] * df['Sales']\n",
    "\n",
    "    # We want to track sales,commission amounts and sales targets over all the simulations\n",
    "    results.append([df['Sales'].sum().round(0),\n",
    "                      df['Commission_Amount'].sum().round(0),\n",
    "                      df['Sales_Target'].sum().round(0)])"
   ]
  },
  {
   "cell_type": "markdown",
   "metadata": {},
   "source": [
    "Now let's create a new DataFrame and analyze the results: "
   ]
  },
  {
   "cell_type": "code",
   "execution_count": 14,
   "metadata": {},
   "outputs": [
    {
     "data": {
      "text/plain": [
       "<matplotlib.axes._subplots.AxesSubplot at 0x1233a4e10>"
      ]
     },
     "execution_count": 14,
     "metadata": {},
     "output_type": "execute_result"
    },
    {
     "data": {
      "image/png": "[encoded data removed]",
      "text/plain": [
       "<Figure size 432x288 with 1 Axes>"
      ]
     },
     "metadata": {
      "needs_background": "light"
     },
     "output_type": "display_data"
    }
   ],
   "source": [
    "# Results DataFrame\n",
    "results_df = pd.DataFrame(results, columns=['Sales', 'Commission_Amount', 'Sales_Target'])\n",
    "results_df['Commission_Amount'].hist()"
   ]
  },
  {
   "cell_type": "code",
   "execution_count": 13,
   "metadata": {},
   "outputs": [
    {
     "data": {
      "text/html": [
       "<style  type=\"text/css\" >\n",
       "</style><table id=\"T_7afe5b6a_5e8e_11eb_b05c_a82066062ac6\" ><thead>    <tr>        <th class=\"blank level0\" ></th>        <th class=\"col_heading level0 col0\" >Sales</th>        <th class=\"col_heading level0 col1\" >Commission_Amount</th>        <th class=\"col_heading level0 col2\" >Sales_Target</th>    </tr></thead><tbody>\n",
       "                <tr>\n",
       "                        <th id=\"T_7afe5b6a_5e8e_11eb_b05c_a82066062ac6level0_row0\" class=\"row_heading level0 row0\" >count</th>\n",
       "                        <td id=\"T_7afe5b6a_5e8e_11eb_b05c_a82066062ac6row0_col0\" class=\"data row0 col0\" >1,000.0</td>\n",
       "                        <td id=\"T_7afe5b6a_5e8e_11eb_b05c_a82066062ac6row0_col1\" class=\"data row0 col1\" >1,000.0</td>\n",
       "                        <td id=\"T_7afe5b6a_5e8e_11eb_b05c_a82066062ac6row0_col2\" class=\"data row0 col2\" >1,000.0</td>\n",
       "            </tr>\n",
       "            <tr>\n",
       "                        <th id=\"T_7afe5b6a_5e8e_11eb_b05c_a82066062ac6level0_row1\" class=\"row_heading level0 row1\" >mean</th>\n",
       "                        <td id=\"T_7afe5b6a_5e8e_11eb_b05c_a82066062ac6row1_col0\" class=\"data row1 col0\" >83,798,515.25</td>\n",
       "                        <td id=\"T_7afe5b6a_5e8e_11eb_b05c_a82066062ac6row1_col1\" class=\"data row1 col1\" >2,894,079.847</td>\n",
       "                        <td id=\"T_7afe5b6a_5e8e_11eb_b05c_a82066062ac6row1_col2\" class=\"data row1 col2\" >83,792,225.0</td>\n",
       "            </tr>\n",
       "            <tr>\n",
       "                        <th id=\"T_7afe5b6a_5e8e_11eb_b05c_a82066062ac6level0_row2\" class=\"row_heading level0 row2\" >std</th>\n",
       "                        <td id=\"T_7afe5b6a_5e8e_11eb_b05c_a82066062ac6row2_col0\" class=\"data row2 col0\" >2,825,797.0785841006</td>\n",
       "                        <td id=\"T_7afe5b6a_5e8e_11eb_b05c_a82066062ac6row2_col1\" class=\"data row2 col1\" >108,059.3365063926</td>\n",
       "                        <td id=\"T_7afe5b6a_5e8e_11eb_b05c_a82066062ac6row2_col2\" class=\"data row2 col2\" >2,772,697.788689276</td>\n",
       "            </tr>\n",
       "            <tr>\n",
       "                        <th id=\"T_7afe5b6a_5e8e_11eb_b05c_a82066062ac6level0_row3\" class=\"row_heading level0 row3\" >min</th>\n",
       "                        <td id=\"T_7afe5b6a_5e8e_11eb_b05c_a82066062ac6row3_col0\" class=\"data row3 col0\" >75,161,500.0</td>\n",
       "                        <td id=\"T_7afe5b6a_5e8e_11eb_b05c_a82066062ac6row3_col1\" class=\"data row3 col1\" >2,628,195.0</td>\n",
       "                        <td id=\"T_7afe5b6a_5e8e_11eb_b05c_a82066062ac6row3_col2\" class=\"data row3 col2\" >74,500,000.0</td>\n",
       "            </tr>\n",
       "            <tr>\n",
       "                        <th id=\"T_7afe5b6a_5e8e_11eb_b05c_a82066062ac6level0_row4\" class=\"row_heading level0 row4\" >25%</th>\n",
       "                        <td id=\"T_7afe5b6a_5e8e_11eb_b05c_a82066062ac6row4_col0\" class=\"data row4 col0\" >81,840,562.5</td>\n",
       "                        <td id=\"T_7afe5b6a_5e8e_11eb_b05c_a82066062ac6row4_col1\" class=\"data row4 col1\" >2,819,057.5</td>\n",
       "                        <td id=\"T_7afe5b6a_5e8e_11eb_b05c_a82066062ac6row4_col2\" class=\"data row4 col2\" >81,918,750.0</td>\n",
       "            </tr>\n",
       "            <tr>\n",
       "                        <th id=\"T_7afe5b6a_5e8e_11eb_b05c_a82066062ac6level0_row5\" class=\"row_heading level0 row5\" >50%</th>\n",
       "                        <td id=\"T_7afe5b6a_5e8e_11eb_b05c_a82066062ac6row5_col0\" class=\"data row5 col0\" >83,666,625.0</td>\n",
       "                        <td id=\"T_7afe5b6a_5e8e_11eb_b05c_a82066062ac6row5_col1\" class=\"data row5 col1\" >2,889,585.0</td>\n",
       "                        <td id=\"T_7afe5b6a_5e8e_11eb_b05c_a82066062ac6row5_col2\" class=\"data row5 col2\" >83,687,500.0</td>\n",
       "            </tr>\n",
       "            <tr>\n",
       "                        <th id=\"T_7afe5b6a_5e8e_11eb_b05c_a82066062ac6level0_row6\" class=\"row_heading level0 row6\" >75%</th>\n",
       "                        <td id=\"T_7afe5b6a_5e8e_11eb_b05c_a82066062ac6row6_col0\" class=\"data row6 col0\" >85,729,500.0</td>\n",
       "                        <td id=\"T_7afe5b6a_5e8e_11eb_b05c_a82066062ac6row6_col1\" class=\"data row6 col1\" >2,969,055.5</td>\n",
       "                        <td id=\"T_7afe5b6a_5e8e_11eb_b05c_a82066062ac6row6_col2\" class=\"data row6 col2\" >85,650,000.0</td>\n",
       "            </tr>\n",
       "            <tr>\n",
       "                        <th id=\"T_7afe5b6a_5e8e_11eb_b05c_a82066062ac6level0_row7\" class=\"row_heading level0 row7\" >max</th>\n",
       "                        <td id=\"T_7afe5b6a_5e8e_11eb_b05c_a82066062ac6row7_col0\" class=\"data row7 col0\" >93,148,500.0</td>\n",
       "                        <td id=\"T_7afe5b6a_5e8e_11eb_b05c_a82066062ac6row7_col1\" class=\"data row7 col1\" >3,241,065.0</td>\n",
       "                        <td id=\"T_7afe5b6a_5e8e_11eb_b05c_a82066062ac6row7_col2\" class=\"data row7 col2\" >93,350,000.0</td>\n",
       "            </tr>\n",
       "    </tbody></table>"
      ],
      "text/plain": [
       "<pandas.io.formats.style.Styler at 0x122ed6ad0>"
      ]
     },
     "execution_count": 13,
     "metadata": {},
     "output_type": "execute_result"
    }
   ],
   "source": [
    "results_df.describe().style.format('{:,}')"
   ]
  },
  {
   "cell_type": "markdown",
   "metadata": {},
   "source": [
    "So what do the results tell us? The average commissions expense is about \\\\$2,900,000, with a standard deviation of about \\\\$108,000.  The max commissions payment was about \\\\$3,240,000, while the lowest was about \\\\$2,630,000.  Based on this, if somebody were to say \"Let's only budget \\\\$3,000,000 for commissions\", we would probably not feel very good about this, knowing the results of our Monte Carlo simulation.  "
   ]
  }
 ],
 "metadata": {
  "kernelspec": {
   "display_name": "Python 3",
   "language": "python",
   "name": "python3"
  },
  "language_info": {
   "codemirror_mode": {
    "name": "ipython",
    "version": 3
   },
   "file_extension": ".py",
   "mimetype": "text/x-python",
   "name": "python",
   "nbconvert_exporter": "python",
   "pygments_lexer": "ipython3",
   "version": "3.7.4"
  }
 },
 "nbformat": 4,
 "nbformat_minor": 2
}

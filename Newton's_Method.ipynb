{
 "cells": [
  {
   "cell_type": "code",
   "execution_count": 1,
   "metadata": {},
   "outputs": [],
   "source": [
    "import numpy as np\n",
    "import matplotlib.pyplot as plt"
   ]
  },
  {
   "cell_type": "markdown",
   "metadata": {},
   "source": [
    "### Theory "
   ]
  },
  {
   "cell_type": "markdown",
   "metadata": {},
   "source": [
    "Suppose we need to find a root of a continuous differentiable function f(x), and we know the root is somewhere near the point $x = x_{0}$.  Newton's method tells us that a better approximation for the function is :\n",
    "\n",
    "$x_{1} = x_{0} - \\frac{f(x_{0})}{f'(x_{0})}$\n",
    "\n",
    "We can repeat this process as many times as necessary to get the desired accuracy we want.  In general, for any x-value $x_{n}$, the next value is given by:\n",
    "\n",
    "$x_{n+1} = x_{n} - \\frac{f(x_{n})}{f'(x_{n})}$"
   ]
  },
  {
   "cell_type": "markdown",
   "metadata": {},
   "source": [
    "The Newton-Raphson method is used for solving numerical optimization problems.  In this case, the method takes the form of Newton's method for finding the zeros of a function, but applied to the derivative of the function.  This is because determining the minimum point of the function `f` is equivalent to determining the root of the first derivative `f'`.  In this case, the update formula is:\n",
    "\n",
    "$x_{n+1} = x_{n} - \\frac{f'(x_{n})}{f''(x_{n})}$"
   ]
  },
  {
   "cell_type": "markdown",
   "metadata": {},
   "source": [
    "### Newton-Raphson Test on a Function "
   ]
  },
  {
   "cell_type": "markdown",
   "metadata": {},
   "source": [
    "So let's see how it works on a function.  Suppose we have the following function: "
   ]
  },
  {
   "cell_type": "code",
   "execution_count": 3,
   "metadata": {},
   "outputs": [
    {
     "data": {
      "image/png": "[encoded data removed]",
      "text/plain": [
       "<Figure size 432x288 with 1 Axes>"
      ]
     },
     "metadata": {
      "needs_background": "light"
     },
     "output_type": "display_data"
    }
   ],
   "source": [
    "# Define a non-linear function\n",
    "x = np.linspace(0, 3, 100)\n",
    "y = x**3 - 2*x**2 - x + 2\n",
    "\n",
    "fig = plt.figure()\n",
    "axdef = fig.add_subplot(1, 1, 1)\n",
    "axdef.spines['left'].set_position('center')\n",
    "axdef.spines['bottom'].set_position('zero')\n",
    "axdef.spines['right'].set_color('none')\n",
    "axdef.spines['top'].set_color('none')\n",
    "axdef.xaxis.set_ticks_position('bottom')\n",
    "axdef.yaxis.set_ticks_position('left')\n",
    "plt.plot(x, y, 'r')\n",
    "plt.show()"
   ]
  },
  {
   "cell_type": "markdown",
   "metadata": {},
   "source": [
    "We see here that the minimum of the function is somewhere around x = 1.5, but we aren't exactly sure where.  Since we can cheat and use computational methods here, let's go ahead and check what the minimum **really** is:"
   ]
  },
  {
   "cell_type": "code",
   "execution_count": 5,
   "metadata": {},
   "outputs": [
    {
     "data": {
      "text/plain": [
       "1.5454545454545454"
      ]
     },
     "execution_count": 5,
     "metadata": {},
     "output_type": "execute_result"
    }
   ],
   "source": [
    "# Actual minimum\n",
    "x[np.argmin(y)]"
   ]
  },
  {
   "cell_type": "markdown",
   "metadata": {},
   "source": [
    "So the minimum is actually a little bit above 1.5.  Let us now define two functions representing the first and second derivatives of our function: "
   ]
  },
  {
   "cell_type": "code",
   "execution_count": 6,
   "metadata": {},
   "outputs": [],
   "source": [
    "# First and second derivative functions\n",
    "first_derivative = lambda x: 3*x**2 - 4*x - 1\n",
    "second_derivative = lambda x: 6*x - 4"
   ]
  },
  {
   "cell_type": "markdown",
   "metadata": {},
   "source": [
    "Now let's initialize the following parameters: \n",
    "\n",
    "- `actual_x`: Contains the current value of the independent variable x.  We initialize at x=3 to start outside our min value.\n",
    "- `precision_value`: Contains the value that defines the degree of precision for our algorithm.  Since this procedure is iterative, the solution is refined at each iteration and tends to converge.  But we may need many iterations, so to save resources, we stop the procedure once the specified precision has been reached. \n",
    "- `previous_step_size`: Contains the calculation of the precision and is initialized to 1.\n",
    "- `max_iteration`: Contains the maximum number of iterations that we have provided to our algorithm.  We use this to stop the procedure if it doesn't converge. \n",
    "- `iteration_counter`: Counts how many iterations there have been. "
   ]
  },
  {
   "cell_type": "code",
   "execution_count": 7,
   "metadata": {},
   "outputs": [],
   "source": [
    "# Parameters\n",
    "actual_x = 3\n",
    "precision_value = 0.000001\n",
    "previous_step_size = 1\n",
    "max_iteration = 10000\n",
    "iteration_counter = 0"
   ]
  },
  {
   "cell_type": "markdown",
   "metadata": {},
   "source": [
    "Now let's apply the Newton-Raphson method: "
   ]
  },
  {
   "cell_type": "code",
   "execution_count": 8,
   "metadata": {},
   "outputs": [
    {
     "name": "stdout",
     "output_type": "stream",
     "text": [
      "Num iterations = 1\n",
      "Actual value of x = 2.0\n",
      "Num iterations = 2\n",
      "Actual value of x = 1.625\n",
      "Num iterations = 3\n",
      "Actual value of x = 1.5516304347826086\n",
      "Num iterations = 4\n",
      "Actual value of x = 1.5485890147300967\n",
      "Num iterations = 5\n",
      "Actual value of x = 1.5485837703704566\n",
      "Num iterations = 6\n",
      "Actual value of x = 1.5485837703548635\n"
     ]
    }
   ],
   "source": [
    "# Newton-Raphson method\n",
    "while previous_step_size > precision_value and iteration_counter < max_iteration:\n",
    "    previous_x = actual_x\n",
    "    actual_x = actual_x - first_derivative(previous_x) / second_derivative(previous_x)\n",
    "    previous_step_size = abs(actual_x - previous_x)\n",
    "    iteration_counter += 1\n",
    "    print(f'Num iterations = {iteration_counter}')\n",
    "    print(f'Actual value of x = {actual_x}')"
   ]
  },
  {
   "cell_type": "markdown",
   "metadata": {},
   "source": [
    "Wow! We were able to achieve a solution in only 6 iterations.  This is significantly faster than gradient descent for this function.  The reason for this is based upon mathematical properties of the functions we are trying to optimize.  While approximating f', Newton's method makes use of f'' (the curvature of f). This means it has higher requirements on the smoothness of f, but it also means that (by using more information) it often converges faster."
   ]
  }
 ],
 "metadata": {
  "kernelspec": {
   "display_name": "Python 3",
   "language": "python",
   "name": "python3"
  },
  "language_info": {
   "codemirror_mode": {
    "name": "ipython",
    "version": 3
   },
   "file_extension": ".py",
   "mimetype": "text/x-python",
   "name": "python",
   "nbconvert_exporter": "python",
   "pygments_lexer": "ipython3",
   "version": "3.7.4"
  }
 },
 "nbformat": 4,
 "nbformat_minor": 2
}
